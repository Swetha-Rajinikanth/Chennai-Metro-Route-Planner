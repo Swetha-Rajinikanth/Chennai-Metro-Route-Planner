import heapq #Tree-based data structure
import tkinter as tk #provides a variety of widgets like buttons, labels, text boxes, menus and more that can be used to create interactive user interfaces
from tkinter import ttk #Themed Tkinter Combo box, Advanced Styles 

# Metro graph with distances (in km) and travel time (in minutes)
metro_graph = {
     "Wimco Nagar Deport" : [("Wimco Nagar",0.15,2)],
    "Wimco Nagar" : [("Wimco Nagar Deport",0.15,2),("Thiruvottriyur",0.86,2)],
    "Thiruvottriyur" : [("Wimco Nagar",0.86,2),("Thiruvottriyur Theradi",1.36,3)],
    "Thiruvottriyur Theradi" : [("Thiruvottriyur",1.36,3),("Kaladipet",1.05,2)],
    "Kaladipet" : [("Thiruvottriyur Theradi",1.05,2),("Tollgate",0.91,2)],
    "Tollgate" : [("Kaladipet",0.91,2),("New Washermenpet",1.05,2)],
    "New Washermenpet" : [("Tollgate",1.05,2),("Tondaiarpet",1.22,2)],
    "Tondaiarpet" : [("New Washermenpet",1.22,2),("Thiyagaraya College",0.96,2)],
    "Thiyagaraya College" : [("Tondaiarpet",0.96,2),("Washermenpet",1.05,2)],
    "Washermenpet" : [("Thiyagaraya College",1.05,2),("Mannadi",1.65,3)],
    "Mannadi" : [("Washermenpet",1.65,3),("High Court",0.92,2)],
    "High Court" : [("Mannadi",0.92,2),("Chennai Central",1.62,3)],
     "Chennai Central" : [("High Court",1.62,3),("Government Estate",1.86,4),("Egmore",1.47,3)],
    "Government Estate" : [("Chennai Central",1.86,4),("LIC",0.93,2)],
    "LIC" : [("Government Estate",0.93,2),("Thousand Lights",1.06,2)],
    "Thousand Lights" : [("LIC",1.06,2),("AG-DMS",1.9,4)],
    "AG-DMS" : [("Thousand Lights",1.9,4),("Teynampet",0.92,2)],
    "Teynampet" : [("AG-DMS",0.92,2),("Nandanam",0.88,2)],
    "Nandanam" : [("Teynampet",0.88,2),("Saidapet",1.65,3)],
    "Saidapet" : [("Nandanam",1.65,3),("Little Mount",1.23,2)],
    "Little Mount" : [("Saidapet",1.23,2),("Guindy",1.32,3)],
    "Guindy" : [("Little Mount",1.32,3),("Alandur",1.43,3)],
    "Alandur" : [("Guindy",1.43,3),("Nanganallur Road",1.06,2),("St.Thomas Mount",1.29,3),("Ekkaduthangal",1.43,3)],
    "Nanganallur Road" : [("Alandur",1.06,2),("Meenambakkam",2.34,5)],
    "Meenambakkam" : [("Nanganallur Road",2.34,5),("Airport",1.56,3)],
    "Airport" : [("Meenambakkam",1.56,3)],
#Green Lane
    "Egmore" : [("Chennai Central",1.47,3),("Nehru Park",1.18,2)],
    "Nehru Park" : [("Egmore",1.18,2),("Kilpauk",0.8,2)],
    "Kilpauk" : [("Nehru Park",0.8,2),("Pachaiyappa's College",1.13,2)],
    "Pachaiyappa's College" : [("Kilpauk",1.13,2),("Shenoy Nagar",1.2,2)],
    "Shenoy Nagar" : [("Pachaiyappa's College",1.2,2),("Anna Nagar East",1.15,2)],
    "Anna Nagar East" : [("Shenoy Nagar",1.15,2),("Anna Nagar Tower",1.16,2)],
    "Anna Nagar Tower" : [("Anna Nagar East",1.16,2),("Thirumangalam",0.79,2)],
    "Thirumangalam" : [("Anna Nagar Tower",0.79,2),("Koyambedu",1.82,4)],
    "Koyambedu" : [("Thirumangalam",1.82,4),("CMBT",1.39,3)],
    "CMBT" : [("Koyambedu",1.39,3),("Arumbakam",1.27,3)],
    "Arumbakam" : [("CMBT",1.27,3),("Vadapalani",1.26,3)],
    "Vadapalani" : [("Arumbakam",1.26,3),("Ashok Nagar",1.75,4)],
    "Ashok Nagar" : [("Vadapalani",1.75,4),("Ekkaduthangal",2.25,5)],
    "Ekkaduthangal" : [("Ashok Nagar",1.43,3),("Alandur",1.43,3)],
    "St.Thomas Mount" : [("Alandur",1.29,3)] 

}

def find_shortest_path(graph, start, end):
    queue = []
    heapq.heappush(queue, (0, 0, start, []))
    visited = set()

    while queue:
        distance, time, station, path = heapq.heappop(queue) #allows access the smallest or largest element

        if station in visited:
            continue
        visited.add(station)
        path = path + [station]

        if station == end:
            return distance, time, path

        for neighbor, dist, travel_time in graph.get(station, []):
            if neighbor not in visited:
                heapq.heappush(queue, (distance + dist, time + travel_time, neighbor, path)) #To insert an element into a min-heap

    return None, None, []

def calculate_path():
    start = source_var.get()
    end = destination_var.get()

    if start == "Select Source Station" or end == "Select Destination Station":
        result_label.config(text="Please select valid stations!")
        return
    
    if start == end:
        result_label.config(text="Source and destination cannot be the same!")
        return

    distance, time, path = find_shortest_path(metro_graph, start, end)

    if path:
        if distance <= 2:
            ticket_cost, card_cost = 10, 8
        elif distance <= 5:
            ticket_cost, card_cost = 20, 16
        else:
            ticket_cost, card_cost = 30, 24

        result_label.config(text=f"Path: {' -> '.join(path)}\nDistance: {distance:.2f} km\nTime: {time} min\nTicket: ₹{ticket_cost}\nCard: ₹{card_cost}")
    else:
        result_label.config(text="No path found!")

# Create main window
root = tk.Tk()
root.title("Metro Route Finder")

# Define StringVars for placeholders
source_var = tk.StringVar()
destination_var = tk.StringVar()

# Set default placeholder text
source_var.set("Select Source Station")
destination_var.set("Select Destination Station")

# Create dropdowns with textvariable
source_station = ttk.Combobox(root, values=list(metro_graph.keys()), textvariable=source_var, state="readonly") #Dropdown menu for selecting options
destination_station = ttk.Combobox(root, values=list(metro_graph.keys()), textvariable=destination_var, state="readonly")

# Create button and result label
calculate_button = ttk.Button(root, text="Find Path", command=calculate_path)
result_label = ttk.Label(root, text="") #Displays text or images

# Arrange widgets in the window
source_station.pack() #Places the widgets on the window in a vertical arrangement
destination_station.pack()
calculate_button.pack()
result_label.pack()

# Run the application
root.mainloop() #Starts the Tkinter event loop
